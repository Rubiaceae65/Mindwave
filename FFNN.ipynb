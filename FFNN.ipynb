{
 "cells": [
  {
   "cell_type": "code",
   "execution_count": 362,
   "metadata": {},
   "outputs": [
    {
     "ename": "ModuleNotFoundError",
     "evalue": "No module named 'tensorflow_docs'",
     "output_type": "error",
     "traceback": [
      "\u001b[1;31m---------------------------------------------------------------------------\u001b[0m",
      "\u001b[1;31mModuleNotFoundError\u001b[0m                       Traceback (most recent call last)",
      "\u001b[1;32m<ipython-input-362-127adeeb3a88>\u001b[0m in \u001b[0;36m<module>\u001b[1;34m\u001b[0m\n\u001b[0;32m      4\u001b[0m \u001b[1;32mimport\u001b[0m \u001b[0mtensorflow\u001b[0m \u001b[1;32mas\u001b[0m \u001b[0mtf\u001b[0m\u001b[1;33m\u001b[0m\u001b[1;33m\u001b[0m\u001b[0m\n\u001b[0;32m      5\u001b[0m \u001b[1;32mimport\u001b[0m \u001b[0mmatplotlib\u001b[0m\u001b[1;33m.\u001b[0m\u001b[0mpyplot\u001b[0m \u001b[1;32mas\u001b[0m \u001b[0mplt\u001b[0m\u001b[1;33m\u001b[0m\u001b[1;33m\u001b[0m\u001b[0m\n\u001b[1;32m----> 6\u001b[1;33m \u001b[1;32mimport\u001b[0m \u001b[0mtensorflow_docs\u001b[0m\u001b[1;33m.\u001b[0m\u001b[0mplots\u001b[0m\u001b[1;33m\u001b[0m\u001b[1;33m\u001b[0m\u001b[0m\n\u001b[0m\u001b[0;32m      7\u001b[0m \u001b[1;32mimport\u001b[0m \u001b[0mtensorflow_docs\u001b[0m\u001b[1;33m.\u001b[0m\u001b[0mmodeling\u001b[0m\u001b[1;33m\u001b[0m\u001b[1;33m\u001b[0m\u001b[0m\n\u001b[0;32m      8\u001b[0m \u001b[1;32mimport\u001b[0m \u001b[0mtensorflow_docs\u001b[0m \u001b[1;32mas\u001b[0m \u001b[0mtfdocs\u001b[0m\u001b[1;33m\u001b[0m\u001b[1;33m\u001b[0m\u001b[0m\n",
      "\u001b[1;31mModuleNotFoundError\u001b[0m: No module named 'tensorflow_docs'"
     ]
    }
   ],
   "source": [
    "import math\n",
    "import numpy as np\n",
    "import pandas as pd\n",
    "import tensorflow as tf\n",
    "import matplotlib.pyplot as plt\n",
    "import tensorflow_docs.plots\n",
    "import tensorflow_docs.modeling\n",
    "import tensorflow_docs as tfdocs\n",
    "\n",
    "from tensorflow import keras\n",
    "from tensorflow.keras.models import Sequential\n",
    "from tensorflow.keras.backend import clear_session\n",
    "from tensorflow.keras.layers import Dense\n",
    "from tensorflow.keras.optimizers import Adam\n",
    "from tensorflow.keras.callbacks import EarlyStopping, ReduceLROnPlateau\n",
    "from tensorflow.keras.losses import SparseCategoricalCrossentropy\n",
    "from sklearn.model_selection import train_test_split\n",
    "from sklearn.preprocessing import MinMaxScaler, StandardScaler\n",
    "from sklearn.metrics import mean_absolute_error, mean_squared_error"
   ]
  },
  {
   "cell_type": "markdown",
   "metadata": {},
   "source": [
    "## Data Import & Preparation"
   ]
  },
  {
   "cell_type": "code",
   "execution_count": 350,
   "metadata": {},
   "outputs": [
    {
     "data": {
      "text/html": [
       "<div>\n",
       "<style scoped>\n",
       "    .dataframe tbody tr th:only-of-type {\n",
       "        vertical-align: middle;\n",
       "    }\n",
       "\n",
       "    .dataframe tbody tr th {\n",
       "        vertical-align: top;\n",
       "    }\n",
       "\n",
       "    .dataframe thead th {\n",
       "        text-align: right;\n",
       "    }\n",
       "</style>\n",
       "<table border=\"1\" class=\"dataframe\">\n",
       "  <thead>\n",
       "    <tr style=\"text-align: right;\">\n",
       "      <th></th>\n",
       "      <th>attention</th>\n",
       "      <th>delta</th>\n",
       "      <th>theta</th>\n",
       "      <th>low-alpha</th>\n",
       "      <th>high-alpha</th>\n",
       "      <th>low-beta</th>\n",
       "      <th>high-beta</th>\n",
       "      <th>low-gamma</th>\n",
       "      <th>mid-gamma</th>\n",
       "    </tr>\n",
       "  </thead>\n",
       "  <tbody>\n",
       "    <tr>\n",
       "      <th>4</th>\n",
       "      <td>0.30</td>\n",
       "      <td>555424</td>\n",
       "      <td>228268</td>\n",
       "      <td>41426</td>\n",
       "      <td>20773</td>\n",
       "      <td>9552</td>\n",
       "      <td>4258</td>\n",
       "      <td>4553</td>\n",
       "      <td>9046</td>\n",
       "    </tr>\n",
       "    <tr>\n",
       "      <th>5</th>\n",
       "      <td>0.40</td>\n",
       "      <td>361641</td>\n",
       "      <td>203589</td>\n",
       "      <td>33347</td>\n",
       "      <td>61300</td>\n",
       "      <td>12438</td>\n",
       "      <td>24623</td>\n",
       "      <td>16331</td>\n",
       "      <td>36168</td>\n",
       "    </tr>\n",
       "    <tr>\n",
       "      <th>6</th>\n",
       "      <td>0.47</td>\n",
       "      <td>604167</td>\n",
       "      <td>273762</td>\n",
       "      <td>54757</td>\n",
       "      <td>23296</td>\n",
       "      <td>39253</td>\n",
       "      <td>24968</td>\n",
       "      <td>37750</td>\n",
       "      <td>27146</td>\n",
       "    </tr>\n",
       "    <tr>\n",
       "      <th>7</th>\n",
       "      <td>0.56</td>\n",
       "      <td>547847</td>\n",
       "      <td>189739</td>\n",
       "      <td>18314</td>\n",
       "      <td>32144</td>\n",
       "      <td>51886</td>\n",
       "      <td>22279</td>\n",
       "      <td>13328</td>\n",
       "      <td>22866</td>\n",
       "    </tr>\n",
       "    <tr>\n",
       "      <th>8</th>\n",
       "      <td>0.74</td>\n",
       "      <td>1320032</td>\n",
       "      <td>115127</td>\n",
       "      <td>54336</td>\n",
       "      <td>8408</td>\n",
       "      <td>25416</td>\n",
       "      <td>13697</td>\n",
       "      <td>10791</td>\n",
       "      <td>57787</td>\n",
       "    </tr>\n",
       "    <tr>\n",
       "      <th>...</th>\n",
       "      <td>...</td>\n",
       "      <td>...</td>\n",
       "      <td>...</td>\n",
       "      <td>...</td>\n",
       "      <td>...</td>\n",
       "      <td>...</td>\n",
       "      <td>...</td>\n",
       "      <td>...</td>\n",
       "      <td>...</td>\n",
       "    </tr>\n",
       "    <tr>\n",
       "      <th>485</th>\n",
       "      <td>0.27</td>\n",
       "      <td>245766</td>\n",
       "      <td>176489</td>\n",
       "      <td>28284</td>\n",
       "      <td>18742</td>\n",
       "      <td>34710</td>\n",
       "      <td>8769</td>\n",
       "      <td>7469</td>\n",
       "      <td>75588</td>\n",
       "    </tr>\n",
       "    <tr>\n",
       "      <th>486</th>\n",
       "      <td>0.50</td>\n",
       "      <td>89819</td>\n",
       "      <td>22665</td>\n",
       "      <td>18075</td>\n",
       "      <td>11821</td>\n",
       "      <td>18650</td>\n",
       "      <td>8952</td>\n",
       "      <td>8648</td>\n",
       "      <td>64470</td>\n",
       "    </tr>\n",
       "    <tr>\n",
       "      <th>487</th>\n",
       "      <td>0.44</td>\n",
       "      <td>1269525</td>\n",
       "      <td>84596</td>\n",
       "      <td>24241</td>\n",
       "      <td>13691</td>\n",
       "      <td>20201</td>\n",
       "      <td>9176</td>\n",
       "      <td>6696</td>\n",
       "      <td>68357</td>\n",
       "    </tr>\n",
       "    <tr>\n",
       "      <th>488</th>\n",
       "      <td>0.54</td>\n",
       "      <td>504223</td>\n",
       "      <td>42898</td>\n",
       "      <td>21910</td>\n",
       "      <td>19481</td>\n",
       "      <td>20520</td>\n",
       "      <td>26704</td>\n",
       "      <td>15849</td>\n",
       "      <td>76008</td>\n",
       "    </tr>\n",
       "    <tr>\n",
       "      <th>489</th>\n",
       "      <td>0.66</td>\n",
       "      <td>708117</td>\n",
       "      <td>48200</td>\n",
       "      <td>9631</td>\n",
       "      <td>27162</td>\n",
       "      <td>6663</td>\n",
       "      <td>9010</td>\n",
       "      <td>7112</td>\n",
       "      <td>65319</td>\n",
       "    </tr>\n",
       "  </tbody>\n",
       "</table>\n",
       "<p>452 rows × 9 columns</p>\n",
       "</div>"
      ],
      "text/plain": [
       "     attention    delta   theta  low-alpha  high-alpha  low-beta  high-beta  \\\n",
       "4         0.30   555424  228268      41426       20773      9552       4258   \n",
       "5         0.40   361641  203589      33347       61300     12438      24623   \n",
       "6         0.47   604167  273762      54757       23296     39253      24968   \n",
       "7         0.56   547847  189739      18314       32144     51886      22279   \n",
       "8         0.74  1320032  115127      54336        8408     25416      13697   \n",
       "..         ...      ...     ...        ...         ...       ...        ...   \n",
       "485       0.27   245766  176489      28284       18742     34710       8769   \n",
       "486       0.50    89819   22665      18075       11821     18650       8952   \n",
       "487       0.44  1269525   84596      24241       13691     20201       9176   \n",
       "488       0.54   504223   42898      21910       19481     20520      26704   \n",
       "489       0.66   708117   48200       9631       27162      6663       9010   \n",
       "\n",
       "     low-gamma  mid-gamma  \n",
       "4         4553       9046  \n",
       "5        16331      36168  \n",
       "6        37750      27146  \n",
       "7        13328      22866  \n",
       "8        10791      57787  \n",
       "..         ...        ...  \n",
       "485       7469      75588  \n",
       "486       8648      64470  \n",
       "487       6696      68357  \n",
       "488      15849      76008  \n",
       "489       7112      65319  \n",
       "\n",
       "[452 rows x 9 columns]"
      ]
     },
     "execution_count": 350,
     "metadata": {},
     "output_type": "execute_result"
    }
   ],
   "source": [
    "df = pd.read_csv('data.csv')\n",
    "df = df.drop(['raw', 'meditation'], axis=1)\n",
    "df = df[(df.attention > 0) & (df.attention < 100)]\n",
    "df.attention = df.attention / 100\n",
    "\n",
    "df"
   ]
  },
  {
   "cell_type": "code",
   "execution_count": 351,
   "metadata": {},
   "outputs": [
    {
     "data": {
      "text/plain": [
       "((361, 8), (91, 8), (361, 1), (91, 1))"
      ]
     },
     "execution_count": 351,
     "metadata": {},
     "output_type": "execute_result"
    }
   ],
   "source": [
    "train_set = np.array(df.drop('attention', axis=1))\n",
    "test_set = np.array(df[['attention']])\n",
    "\n",
    "scaler = MinMaxScaler()\n",
    "train_set = scaler.fit_transform(train_set)\n",
    "\n",
    "X_train, X_test, y_train, y_test = train_test_split(train_set, test_set, test_size=0.2)\n",
    "X_train.shape, X_test.shape, y_train.shape, y_test.shape"
   ]
  },
  {
   "cell_type": "markdown",
   "metadata": {},
   "source": [
    "## Model"
   ]
  },
  {
   "cell_type": "code",
   "execution_count": 352,
   "metadata": {},
   "outputs": [
    {
     "name": "stdout",
     "output_type": "stream",
     "text": [
      "Model: \"sequential\"\n",
      "_________________________________________________________________\n",
      "Layer (type)                 Output Shape              Param #   \n",
      "=================================================================\n",
      "dense (Dense)                (None, 16)                144       \n",
      "_________________________________________________________________\n",
      "dense_1 (Dense)              (None, 16)                272       \n",
      "_________________________________________________________________\n",
      "dense_2 (Dense)              (None, 8)                 136       \n",
      "_________________________________________________________________\n",
      "dense_3 (Dense)              (None, 1)                 9         \n",
      "=================================================================\n",
      "Total params: 561\n",
      "Trainable params: 561\n",
      "Non-trainable params: 0\n",
      "_________________________________________________________________\n"
     ]
    }
   ],
   "source": [
    "def feedforward_nnet():\n",
    "    clear_session()\n",
    "    model = Sequential()\n",
    "    model.add(Dense(16, activation=\"relu\", input_shape=(X_train.shape[1],)))\n",
    "    model.add(Dense(16, activation=\"relu\"))\n",
    "    model.add(Dense(8, activation=\"relu\"))\n",
    "    model.add(Dense(1))\n",
    "    return model\n",
    "\n",
    "model = feedforward_nnet()\n",
    "model.summary()"
   ]
  },
  {
   "cell_type": "code",
   "execution_count": 359,
   "metadata": {
    "scrolled": true
   },
   "outputs": [
    {
     "name": "stdout",
     "output_type": "stream",
     "text": [
      "Epoch 1/200\n",
      "18/18 - 0s - loss: 0.1560 - mae: 0.1560 - mse: 0.0397 - val_loss: 0.1448 - val_mae: 0.1448 - val_mse: 0.0332 - lr: 1.0000e-04\n",
      "Epoch 2/200\n",
      "18/18 - 0s - loss: 0.1559 - mae: 0.1559 - mse: 0.0397 - val_loss: 0.1447 - val_mae: 0.1447 - val_mse: 0.0332 - lr: 1.0000e-04\n",
      "Epoch 3/200\n",
      "18/18 - 0s - loss: 0.1557 - mae: 0.1557 - mse: 0.0396 - val_loss: 0.1450 - val_mae: 0.1450 - val_mse: 0.0332 - lr: 1.0000e-04\n",
      "Epoch 4/200\n",
      "18/18 - 0s - loss: 0.1557 - mae: 0.1557 - mse: 0.0396 - val_loss: 0.1448 - val_mae: 0.1448 - val_mse: 0.0331 - lr: 1.0000e-04\n",
      "Epoch 5/200\n",
      "18/18 - 0s - loss: 0.1554 - mae: 0.1554 - mse: 0.0395 - val_loss: 0.1450 - val_mae: 0.1450 - val_mse: 0.0331 - lr: 1.0000e-04\n",
      "Epoch 6/200\n",
      "18/18 - 0s - loss: 0.1553 - mae: 0.1553 - mse: 0.0394 - val_loss: 0.1450 - val_mae: 0.1450 - val_mse: 0.0331 - lr: 1.0000e-04\n",
      "Epoch 7/200\n",
      "18/18 - 0s - loss: 0.1552 - mae: 0.1552 - mse: 0.0394 - val_loss: 0.1449 - val_mae: 0.1449 - val_mse: 0.0330 - lr: 1.0000e-04\n",
      "Epoch 8/200\n",
      "18/18 - 0s - loss: 0.1551 - mae: 0.1551 - mse: 0.0394 - val_loss: 0.1449 - val_mae: 0.1449 - val_mse: 0.0330 - lr: 1.0000e-04\n",
      "Epoch 9/200\n",
      "18/18 - 0s - loss: 0.1549 - mae: 0.1549 - mse: 0.0393 - val_loss: 0.1452 - val_mae: 0.1452 - val_mse: 0.0331 - lr: 1.0000e-04\n",
      "Epoch 10/200\n",
      "18/18 - 0s - loss: 0.1550 - mae: 0.1550 - mse: 0.0393 - val_loss: 0.1451 - val_mae: 0.1451 - val_mse: 0.0330 - lr: 1.0000e-04\n",
      "Epoch 11/200\n",
      "18/18 - 0s - loss: 0.1547 - mae: 0.1547 - mse: 0.0392 - val_loss: 0.1452 - val_mae: 0.1452 - val_mse: 0.0330 - lr: 1.0000e-04\n",
      "Epoch 12/200\n",
      "18/18 - 0s - loss: 0.1545 - mae: 0.1545 - mse: 0.0392 - val_loss: 0.1450 - val_mae: 0.1450 - val_mse: 0.0330 - lr: 1.0000e-04\n",
      "Epoch 13/200\n",
      "18/18 - 0s - loss: 0.1544 - mae: 0.1544 - mse: 0.0392 - val_loss: 0.1450 - val_mae: 0.1450 - val_mse: 0.0330 - lr: 1.0000e-05\n",
      "Epoch 14/200\n",
      "18/18 - 0s - loss: 0.1544 - mae: 0.1544 - mse: 0.0392 - val_loss: 0.1451 - val_mae: 0.1451 - val_mse: 0.0330 - lr: 1.0000e-05\n",
      "Epoch 15/200\n",
      "18/18 - 0s - loss: 0.1544 - mae: 0.1544 - mse: 0.0392 - val_loss: 0.1450 - val_mae: 0.1450 - val_mse: 0.0330 - lr: 1.0000e-05\n",
      "Epoch 16/200\n",
      "18/18 - 0s - loss: 0.1544 - mae: 0.1544 - mse: 0.0392 - val_loss: 0.1451 - val_mae: 0.1451 - val_mse: 0.0330 - lr: 1.0000e-05\n",
      "Epoch 17/200\n",
      "18/18 - 0s - loss: 0.1544 - mae: 0.1544 - mse: 0.0392 - val_loss: 0.1451 - val_mae: 0.1451 - val_mse: 0.0330 - lr: 1.0000e-05\n",
      "Epoch 18/200\n",
      "18/18 - 0s - loss: 0.1544 - mae: 0.1544 - mse: 0.0391 - val_loss: 0.1451 - val_mae: 0.1451 - val_mse: 0.0330 - lr: 1.0000e-05\n",
      "Epoch 19/200\n",
      "18/18 - 0s - loss: 0.1544 - mae: 0.1544 - mse: 0.0391 - val_loss: 0.1451 - val_mae: 0.1451 - val_mse: 0.0330 - lr: 1.0000e-05\n",
      "Epoch 20/200\n",
      "18/18 - 0s - loss: 0.1544 - mae: 0.1544 - mse: 0.0391 - val_loss: 0.1451 - val_mae: 0.1451 - val_mse: 0.0330 - lr: 1.0000e-05\n",
      "Epoch 21/200\n",
      "18/18 - 0s - loss: 0.1544 - mae: 0.1544 - mse: 0.0391 - val_loss: 0.1451 - val_mae: 0.1451 - val_mse: 0.0330 - lr: 1.0000e-05\n",
      "Epoch 22/200\n",
      "18/18 - 0s - loss: 0.1544 - mae: 0.1544 - mse: 0.0391 - val_loss: 0.1451 - val_mae: 0.1451 - val_mse: 0.0330 - lr: 1.0000e-05\n",
      "Epoch 23/200\n",
      "18/18 - 0s - loss: 0.1543 - mae: 0.1543 - mse: 0.0391 - val_loss: 0.1451 - val_mae: 0.1451 - val_mse: 0.0330 - lr: 1.0000e-06\n",
      "Epoch 24/200\n",
      "18/18 - 0s - loss: 0.1543 - mae: 0.1543 - mse: 0.0391 - val_loss: 0.1451 - val_mae: 0.1451 - val_mse: 0.0330 - lr: 1.0000e-06\n",
      "Epoch 25/200\n",
      "18/18 - 0s - loss: 0.1543 - mae: 0.1543 - mse: 0.0391 - val_loss: 0.1451 - val_mae: 0.1451 - val_mse: 0.0330 - lr: 1.0000e-06\n",
      "Epoch 26/200\n",
      "18/18 - 0s - loss: 0.1543 - mae: 0.1543 - mse: 0.0391 - val_loss: 0.1451 - val_mae: 0.1451 - val_mse: 0.0330 - lr: 1.0000e-06\n",
      "Epoch 27/200\n",
      "18/18 - 0s - loss: 0.1543 - mae: 0.1543 - mse: 0.0391 - val_loss: 0.1451 - val_mae: 0.1451 - val_mse: 0.0330 - lr: 1.0000e-06\n",
      "Epoch 28/200\n",
      "18/18 - 0s - loss: 0.1543 - mae: 0.1543 - mse: 0.0391 - val_loss: 0.1451 - val_mae: 0.1451 - val_mse: 0.0330 - lr: 1.0000e-06\n",
      "Epoch 29/200\n",
      "18/18 - 0s - loss: 0.1543 - mae: 0.1543 - mse: 0.0391 - val_loss: 0.1451 - val_mae: 0.1451 - val_mse: 0.0330 - lr: 1.0000e-06\n",
      "Epoch 30/200\n",
      "18/18 - 0s - loss: 0.1543 - mae: 0.1543 - mse: 0.0391 - val_loss: 0.1451 - val_mae: 0.1451 - val_mse: 0.0330 - lr: 1.0000e-06\n",
      "Epoch 31/200\n",
      "18/18 - 0s - loss: 0.1543 - mae: 0.1543 - mse: 0.0391 - val_loss: 0.1451 - val_mae: 0.1451 - val_mse: 0.0330 - lr: 1.0000e-06\n",
      "Epoch 32/200\n",
      "18/18 - 0s - loss: 0.1543 - mae: 0.1543 - mse: 0.0391 - val_loss: 0.1451 - val_mae: 0.1451 - val_mse: 0.0330 - lr: 1.0000e-06\n",
      "Epoch 33/200\n",
      "18/18 - 0s - loss: 0.1543 - mae: 0.1543 - mse: 0.0391 - val_loss: 0.1451 - val_mae: 0.1451 - val_mse: 0.0329 - lr: 1.0000e-07\n",
      "Epoch 34/200\n",
      "18/18 - 0s - loss: 0.1543 - mae: 0.1543 - mse: 0.0391 - val_loss: 0.1451 - val_mae: 0.1451 - val_mse: 0.0329 - lr: 1.0000e-07\n",
      "Epoch 35/200\n",
      "18/18 - 0s - loss: 0.1543 - mae: 0.1543 - mse: 0.0391 - val_loss: 0.1451 - val_mae: 0.1451 - val_mse: 0.0329 - lr: 1.0000e-07\n",
      "Epoch 36/200\n",
      "18/18 - 0s - loss: 0.1543 - mae: 0.1543 - mse: 0.0391 - val_loss: 0.1451 - val_mae: 0.1451 - val_mse: 0.0329 - lr: 1.0000e-07\n",
      "Epoch 37/200\n",
      "18/18 - 0s - loss: 0.1543 - mae: 0.1543 - mse: 0.0391 - val_loss: 0.1451 - val_mae: 0.1451 - val_mse: 0.0329 - lr: 1.0000e-07\n",
      "Epoch 38/200\n",
      "18/18 - 0s - loss: 0.1543 - mae: 0.1543 - mse: 0.0391 - val_loss: 0.1451 - val_mae: 0.1451 - val_mse: 0.0329 - lr: 1.0000e-07\n",
      "Epoch 39/200\n",
      "18/18 - 0s - loss: 0.1543 - mae: 0.1543 - mse: 0.0391 - val_loss: 0.1451 - val_mae: 0.1451 - val_mse: 0.0329 - lr: 1.0000e-07\n",
      "Epoch 40/200\n",
      "18/18 - 0s - loss: 0.1543 - mae: 0.1543 - mse: 0.0391 - val_loss: 0.1451 - val_mae: 0.1451 - val_mse: 0.0329 - lr: 1.0000e-07\n",
      "Epoch 41/200\n",
      "18/18 - 0s - loss: 0.1543 - mae: 0.1543 - mse: 0.0391 - val_loss: 0.1451 - val_mae: 0.1451 - val_mse: 0.0329 - lr: 1.0000e-07\n",
      "Epoch 42/200\n",
      "18/18 - 0s - loss: 0.1543 - mae: 0.1543 - mse: 0.0391 - val_loss: 0.1451 - val_mae: 0.1451 - val_mse: 0.0329 - lr: 1.0000e-07\n"
     ]
    }
   ],
   "source": [
    "model.compile(optimizer=Adam(1e-4), loss='mae', metrics=['mae', 'mse'])\n",
    "es = EarlyStopping(monitor='val_loss', mode='min', patience=40, verbose=0)\n",
    "reduce_lr = ReduceLROnPlateau(monitor='val_loss', factor=0.1, patience=10, min_lr=0)\n",
    "history = model.fit(X_train, y_train, epochs=200, validation_split=0.2, batch_size=16, callbacks=[es, reduce_lr], verbose=2)"
   ]
  },
  {
   "cell_type": "code",
   "execution_count": null,
   "metadata": {},
   "outputs": [],
   "source": []
  },
  {
   "cell_type": "code",
   "execution_count": 360,
   "metadata": {},
   "outputs": [
    {
     "data": {
      "text/plain": [
       "0.15773971418758015"
      ]
     },
     "execution_count": 360,
     "metadata": {},
     "output_type": "execute_result"
    }
   ],
   "source": [
    "y_pred = model.predict(X_test)\n",
    "mean_absolute_error(y_pred, y_test)"
   ]
  },
  {
   "cell_type": "code",
   "execution_count": 361,
   "metadata": {},
   "outputs": [
    {
     "data": {
      "text/plain": [
       "<matplotlib.axes._subplots.AxesSubplot at 0x1ed5e3ec208>"
      ]
     },
     "execution_count": 361,
     "metadata": {},
     "output_type": "execute_result"
    },
    {
     "data": {
      "image/png": "[encoded data removed]",
      "text/plain": [
       "<Figure size 432x288 with 1 Axes>"
      ]
     },
     "metadata": {
      "needs_background": "light"
     },
     "output_type": "display_data"
    }
   ],
   "source": [
    "actual = [i[0] for i in y_test]\n",
    "prediction = [i[0] for i in y_pred]\n",
    "\n",
    "pd.DataFrame({'actual': actual, 'prediction': prediction}).plot()"
   ]
  },
  {
   "cell_type": "code",
   "execution_count": null,
   "metadata": {},
   "outputs": [],
   "source": []
  },
  {
   "cell_type": "code",
   "execution_count": null,
   "metadata": {},
   "outputs": [],
   "source": []
  },
  {
   "cell_type": "code",
   "execution_count": null,
   "metadata": {},
   "outputs": [],
   "source": []
  }
 ],
 "metadata": {
  "kernelspec": {
   "display_name": "Python 3",
   "language": "python",
   "name": "python3"
  },
  "language_info": {
   "codemirror_mode": {
    "name": "ipython",
    "version": 3
   },
   "file_extension": ".py",
   "mimetype": "text/x-python",
   "name": "python",
   "nbconvert_exporter": "python",
   "pygments_lexer": "ipython3",
   "version": "3.6.8"
  }
 },
 "nbformat": 4,
 "nbformat_minor": 4
}
